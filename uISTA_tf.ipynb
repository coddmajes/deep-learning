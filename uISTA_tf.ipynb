{
  "nbformat": 4,
  "nbformat_minor": 0,
  "metadata": {
    "colab": {
      "name": "uISTA_tf.ipynb",
      "provenance": [],
      "collapsed_sections": [],
      "authorship_tag": "ABX9TyNOz3q7GzUFKy+k9OUqMX68",
      "include_colab_link": true
    },
    "kernelspec": {
      "name": "python3",
      "display_name": "Python 3"
    },
    "accelerator": "GPU"
  },
  "cells": [
    {
      "cell_type": "markdown",
      "metadata": {
        "id": "view-in-github",
        "colab_type": "text"
      },
      "source": [
        "<a href=\"https://colab.research.google.com/github/coddmajes/deep-learning/blob/master/uISTA_tf.ipynb\" target=\"_parent\"><img src=\"https://colab.research.google.com/assets/colab-badge.svg\" alt=\"Open In Colab\"/></a>"
      ]
    },
    {
      "cell_type": "markdown",
      "metadata": {
        "id": "loJZekX92bFF",
        "colab_type": "text"
      },
      "source": [
        "**uISTA by tensorflow**"
      ]
    },
    {
      "cell_type": "code",
      "metadata": {
        "id": "0dN7YRIfqlyH",
        "colab_type": "code",
        "outputId": "0374a559-6697-407a-b650-a605ab074667",
        "colab": {
          "base_uri": "https://localhost:8080/",
          "height": 136
        }
      },
      "source": [
        "import tensorflow.compat.v1 as tf\n",
        "tf.disable_v2_behavior()\n",
        "import numpy as np\n",
        "from scipy import linalg\n",
        "\n",
        "from time import time\n",
        "import matplotlib.pyplot as plt\n",
        "\n",
        "import logging\n",
        "logging.getLogger('temsorflow').disabled = True\n"
      ],
      "execution_count": 1,
      "outputs": [
        {
          "output_type": "display_data",
          "data": {
            "text/html": [
              "<p style=\"color: red;\">\n",
              "The default version of TensorFlow in Colab will soon switch to TensorFlow 2.x.<br>\n",
              "We recommend you <a href=\"https://www.tensorflow.org/guide/migrate\" target=\"_blank\">upgrade</a> now \n",
              "or ensure your notebook will continue to use TensorFlow 1.x via the <code>%tensorflow_version 1.x</code> magic:\n",
              "<a href=\"https://colab.research.google.com/notebooks/tensorflow_version.ipynb\" target=\"_blank\">more info</a>.</p>\n"
            ],
            "text/plain": [
              "<IPython.core.display.HTML object>"
            ]
          },
          "metadata": {
            "tags": []
          }
        },
        {
          "output_type": "stream",
          "text": [
            "WARNING:tensorflow:From /usr/local/lib/python3.6/dist-packages/tensorflow_core/python/compat/v2_compat.py:68: disable_resource_variables (from tensorflow.python.ops.variable_scope) is deprecated and will be removed in a future version.\n",
            "Instructions for updating:\n",
            "non-resource variables are not supported in the long term\n"
          ],
          "name": "stdout"
        }
      ]
    },
    {
      "cell_type": "code",
      "metadata": {
        "id": "atFaeq4Rw9bK",
        "colab_type": "code",
        "outputId": "9990f5e3-c99e-4887-a3aa-0c51e0590601",
        "colab": {
          "base_uri": "https://localhost:8080/",
          "height": 334
        }
      },
      "source": [
        "if tf.test.is_gpu_available():\n",
        "  print(\"The following GPU devices are avaliable: %s\" % tf.test.gpu_device_name())\n",
        "  !/opt/bin/nvidia-smi\n",
        "  !/usr/bin/nvidia-smi -L\n",
        "\n",
        "#device = tf.device(tf.test.gpu_device_name())\n"
      ],
      "execution_count": 2,
      "outputs": [
        {
          "output_type": "stream",
          "text": [
            "The following GPU devices are avaliable: /device:GPU:0\n",
            "Fri Feb 21 03:15:40 2020       \n",
            "+-----------------------------------------------------------------------------+\n",
            "| NVIDIA-SMI 418.67       Driver Version: 418.67       CUDA Version: 10.1     |\n",
            "|-------------------------------+----------------------+----------------------+\n",
            "| GPU  Name        Persistence-M| Bus-Id        Disp.A | Volatile Uncorr. ECC |\n",
            "| Fan  Temp  Perf  Pwr:Usage/Cap|         Memory-Usage | GPU-Util  Compute M. |\n",
            "|===============================+======================+======================|\n",
            "|   0  Tesla P100-PCIE...  Off  | 00000000:00:04.0 Off |                    0 |\n",
            "| N/A   43C    P0    30W / 250W |    265MiB / 16280MiB |      0%      Default |\n",
            "+-------------------------------+----------------------+----------------------+\n",
            "                                                                               \n",
            "+-----------------------------------------------------------------------------+\n",
            "| Processes:                                                       GPU Memory |\n",
            "|  GPU       PID   Type   Process name                             Usage      |\n",
            "|=============================================================================|\n",
            "+-----------------------------------------------------------------------------+\n",
            "GPU 0: Tesla P100-PCIE-16GB (UUID: GPU-3e559b43-afe9-04fa-36e1-857fa7e69891)\n"
          ],
          "name": "stdout"
        }
      ]
    },
    {
      "cell_type": "code",
      "metadata": {
        "id": "VQmfhE2l9J-r",
        "colab_type": "code",
        "outputId": "7ae094d3-67b8-46ea-e218-d6cea4c3fe6d",
        "colab": {
          "base_uri": "https://localhost:8080/",
          "height": 34
        }
      },
      "source": [
        "device_name = tf.test.gpu_device_name()\n",
        "if device_name != '/device:GPU:0':\n",
        "  raise SystemError('没有发现GPU device')\n",
        "print('Found GPU at: {}'.format(device_name))"
      ],
      "execution_count": 3,
      "outputs": [
        {
          "output_type": "stream",
          "text": [
            "Found GPU at: /device:GPU:0\n"
          ],
          "name": "stdout"
        }
      ]
    },
    {
      "cell_type": "markdown",
      "metadata": {
        "id": "fAaQCEIIi50q",
        "colab_type": "text"
      },
      "source": [
        "**tensorflow with GPU**"
      ]
    },
    {
      "cell_type": "code",
      "metadata": {
        "id": "FupfVKtN4U1G",
        "colab_type": "code",
        "colab": {}
      },
      "source": [
        "#import os\n",
        "#os.environ[\"CUDA_VISIBLE_DEVICES\"] = \"0\"\n",
        "config = tf.ConfigProto()\n",
        "config.allow_soft_placement=True\n",
        "#config.gpu_options.per_process_gpu_memory_fraction = 0.4\n",
        "config.gpu_options.allow_growth=True\n",
        "#sess = tf.Session(config = config)"
      ],
      "execution_count": 0,
      "outputs": []
    },
    {
      "cell_type": "markdown",
      "metadata": {
        "id": "DzJxEuoc2n8X",
        "colab_type": "text"
      },
      "source": [
        "**data preparation**  "
      ]
    },
    {
      "cell_type": "code",
      "metadata": {
        "id": "wmIYe6QNxTxJ",
        "colab_type": "code",
        "colab": {}
      },
      "source": [
        "n_samples = 400\n",
        "\n",
        "# generate sythetic data for demo\n",
        "rng = np.random.RandomState(int(time()))\n",
        "#m, n = 512, 2048\n",
        "m, n = 256,1024\n",
        "#m, n = 2000, 4000\n",
        "\n",
        "# use a random matrix as a basis (design matrix)\n",
        "A = rng.randn(m, n) / np.sqrt(m)\n",
        "\n",
        "# generate k-sparse Gaussian signal vectors\n",
        "k = 50\n",
        "stdx = 1.\n",
        "snr = 10.\n",
        "\n",
        "# e.g range(0, 30, 5) => [0, 5, 10, 15, 20, 25]\n",
        "support_range = np.arange(0, max(int(n/4), k))\n",
        "# print(support_range)\n",
        "\n",
        "input_data = np.zeros((n_samples, m))\n",
        "output_data = np.zeros((n_samples, n))\n",
        "for i in range(n_samples) :\n",
        "\n",
        "    x_true = np.zeros(n,dtype=np.float32)\n",
        "    # e.g np.random.choice(5, 3) => array([0, 3, 4])\n",
        "    T = rng.choice(len(support_range), k, replace=False)\n",
        "    \n",
        "    # 为什么support_range 是 256以内？？  实验结果shows\n",
        "    x_true[support_range[T]] = rng.randn(k) * stdx\n",
        "    #print()\n",
        "\n",
        "    # make the query vector\n",
        "    b = A.dot(x_true)\n",
        "\n",
        "    # add noise\n",
        "    normb = linalg.norm(b)\n",
        "    noise = rng.randn(m)\n",
        "    noise = noise / linalg.norm(noise) * normb / snr\n",
        "    b = b + noise\n",
        "    \n",
        "    input_data[i, :] = b\n",
        "    output_data[i, :] = x_true\n"
      ],
      "execution_count": 0,
      "outputs": []
    },
    {
      "cell_type": "code",
      "metadata": {
        "id": "ExB3qmT2BUAR",
        "colab_type": "code",
        "outputId": "eb1807ad-4947-46a7-b4df-931317476e50",
        "colab": {
          "base_uri": "https://localhost:8080/",
          "height": 52
        }
      },
      "source": [
        "n_train = min(300, n_samples)\n",
        "from sklearn.model_selection import train_test_split\n",
        "input_train, input_test, output_train, output_test = train_test_split(input_data, output_data, test_size=n_train)\n",
        "\n",
        "print(input_train.shape)\n",
        "print(output_train.shape)\n",
        "#np_input_train = input_train.copy()\n",
        "#np_output_train = output_train.copy()"
      ],
      "execution_count": 6,
      "outputs": [
        {
          "output_type": "stream",
          "text": [
            "(100, 256)\n",
            "(100, 1024)\n"
          ],
          "name": "stdout"
        }
      ]
    },
    {
      "cell_type": "markdown",
      "metadata": {
        "id": "N_K62uojCCkg",
        "colab_type": "text"
      },
      "source": [
        "**ISTA with numpy**"
      ]
    },
    {
      "cell_type": "code",
      "metadata": {
        "id": "95RBmAfGCKIZ",
        "colab_type": "code",
        "colab": {}
      },
      "source": [
        "# soft thresholding function\n",
        "def soft(z, th):\n",
        "    return np.sign(z) * np.maximum(np.abs(z) - th, 0)\n",
        "    # np.sign(z) if z>0 return 1 else return -1\n",
        "\n",
        "from scipy import linalg\n",
        "# Iterative soft thresholding (IST)\n",
        "def ISTA(A, b, tol=1e-5, maxiter=300, l=1., L=None):\n",
        "    m, n = A.shape\n",
        "    x = np.zeros(n)\n",
        "    r = b.copy()\n",
        "    if L is None:    # roughly estimate the Lipschitz constant\n",
        "        L = 2*linalg.norm(A.dot(A.T.dot(b))) / linalg.norm(b)\n",
        "    count = 0\n",
        "    cost_history = []\n",
        "    normr = linalg.norm(r)\n",
        "    while count < maxiter and normr > tol:\n",
        "        count += 1\n",
        "        x = soft(x + A.T.dot(r) / L, l/L)\n",
        "        r = b - A.dot(x)\n",
        "        normr = linalg.norm(r)\n",
        "        #print(np.sum(np.abs(x)))\n",
        "        cost_history.append( normr*normr + l*np.sum(np.abs(x)) )\n",
        "\n",
        "    return x, cost_history"
      ],
      "execution_count": 0,
      "outputs": []
    },
    {
      "cell_type": "code",
      "metadata": {
        "id": "P_vYf8vQCN9J",
        "colab_type": "code",
        "outputId": "87d20efe-ac16-4400-bcee-c53a34830a36",
        "colab": {
          "base_uri": "https://localhost:8080/",
          "height": 300
        }
      },
      "source": [
        "# pick up a test sample, and show the estimate\n",
        "b = input_test[0,:]\n",
        "x_true = output_test[0,:]\n",
        "\n",
        "# l \n",
        "l = 1.*(stdx*stdx / k * m) / np.sqrt(snr) / normb\n",
        "L = 2*linalg.norm(A.dot(A.T.dot(b))) / linalg.norm(b)\n",
        "maxit = 100\n",
        "\n",
        "t0 = time()\n",
        "x_est = ISTA(A, b, maxiter=maxit, l=l, L=L)[0]\n",
        "print('done %d steps in %.2fms by numpy' % (maxit, (time() - t0)*1000))\n",
        "\n",
        "print(np.linalg.norm(x_true-x_est))\n",
        "import matplotlib.pyplot as plt\n",
        "plt.plot(np.arange(n), x_true, 'g.', markersize=8, mec='green', label='True')\n",
        "plt.plot(np.arange(n), x_est, 'ro', mfc = 'None', markersize=4, mec='red', mew=1, label='ISTA')\n",
        "plt.legend(loc='upper right', shadow=False)\n",
        "plt.show()"
      ],
      "execution_count": 8,
      "outputs": [
        {
          "output_type": "stream",
          "text": [
            "done 100 steps in 27.09ms by numpy\n",
            "2.406654406595461\n"
          ],
          "name": "stdout"
        },
        {
          "output_type": "display_data",
          "data": {
            "image/png": "[encoded data removed]",
            "text/plain": [
              "<Figure size 432x288 with 1 Axes>"
            ]
          },
          "metadata": {
            "tags": []
          }
        }
      ]
    },
    {
      "cell_type": "markdown",
      "metadata": {
        "id": "t1shMi9mPDnq",
        "colab_type": "text"
      },
      "source": [
        "**uISTA_tf**"
      ]
    },
    {
      "cell_type": "code",
      "metadata": {
        "id": "ncte-c1TQCT6",
        "colab_type": "code",
        "outputId": "5f618eff-4b7f-4216-985c-de1ff783dbf2",
        "colab": {
          "base_uri": "https://localhost:8080/",
          "height": 54
        }
      },
      "source": [
        "# define parameters\n",
        "from math import sqrt\n",
        "\n",
        "NUM_EPOCHES = 100\n",
        "BATCH_SIZE = 10\n",
        "LEARNING_RATE = 0.00003 * sqrt(BATCH_SIZE)\n",
        "\n",
        "N_LAYERS_UNROLL = 20\n",
        "\n",
        "tf_l_ini = tf.ones((1,n)) * l\n",
        "#print(tf_l_ini)\n",
        "\n",
        "tf_b = tf.placeholder(tf.float32,shape=( None, m))\n",
        "\n",
        "#print(tf_b)\n",
        "#print(tf_x)\n",
        "\n",
        "tf_A = tf.Variable(tf.cast(A,dtype=tf.float32), name='tf_A', trainable= True)\n",
        "tf_l = tf.Variable(tf.cast(tf_l_ini, dtype=tf.float32), name='tf_l', trainable= True) \n",
        "'''\n",
        "tf_A = tf.Variable(tf.convert_to_tensor(A, tf.float32), name='tf_A')\n",
        "tf_l = tf.Variable(tf.convert_to_tensor(tf_l_ini, tf.float32), name='tf_l') \n",
        "\n",
        "\n",
        "sess=tf.InteractiveSession()#使用InteractiveSession函数\n",
        "tf_A.initializer.run()#使用初始化器 initializer op 的 run() 方法初始化 'biases' \n",
        "print(sess.run(tf_A))\n",
        "'''"
      ],
      "execution_count": 40,
      "outputs": [
        {
          "output_type": "execute_result",
          "data": {
            "text/plain": [
              "\"\\ntf_A = tf.Variable(tf.convert_to_tensor(A, tf.float32), name='tf_A')\\ntf_l = tf.Variable(tf.convert_to_tensor(tf_l_ini, tf.float32), name='tf_l') \\n\\n\\nsess=tf.InteractiveSession()#使用InteractiveSession函数\\ntf_A.initializer.run()#使用初始化器 initializer op 的 run() 方法初始化 'biases' \\nprint(sess.run(tf_A))\\n\""
            ]
          },
          "metadata": {
            "tags": []
          },
          "execution_count": 40
        }
      ]
    },
    {
      "cell_type": "code",
      "metadata": {
        "id": "dIPiLNjX0R7w",
        "colab_type": "code",
        "colab": {}
      },
      "source": [
        "def tf_soft(tf_z, tf_th):\n",
        "  with tf.device('/device:GPU:0'):\n",
        "    return tf.multiply(tf.sign(tf_z),tf.maximum(tf.abs(tf_z) - tf_th, 0))"
      ],
      "execution_count": 0,
      "outputs": []
    },
    {
      "cell_type": "code",
      "metadata": {
        "id": "a0apdcAUb84Z",
        "colab_type": "code",
        "colab": {}
      },
      "source": [
        "# uISTA model\n",
        "def uISTA_model():\n",
        "  with tf.device('/device:GPU:0'): \n",
        "    tf_theta = tf.multiply(tf_l,1/L)\n",
        "    x = tf_soft(tf.matmul(tf.multiply(1./L, tf_b), tf_A), tf_theta)\n",
        "    #print(x.shape)\n",
        "    for i in range(1,N_LAYERS_UNROLL):\n",
        "      #x + 1/L*A.t(b-Ax)\n",
        "      x = tf_soft(x + tf.multiply(tf.matmul((tf_b - tf.matmul(x, tf.transpose(tf_A))), tf_A),1./L), tf_theta) \n",
        "    return x\n"
      ],
      "execution_count": 0,
      "outputs": []
    },
    {
      "cell_type": "code",
      "metadata": {
        "id": "Z_X0DNGLKgMz",
        "colab_type": "code",
        "outputId": "17e25b53-458b-4ec6-fcce-f76f4161fac2",
        "colab": {
          "base_uri": "https://localhost:8080/",
          "height": 318
        }
      },
      "source": [
        "u_x = uISTA_model()\n",
        "\n",
        "b = b.reshape(1,m)\n",
        "tf_t0 = time()\n",
        "with tf.Session(config = config) as sess:\n",
        "  sess.run(tf.global_variables_initializer())\n",
        "  tf_x = sess.run(u_x, feed_dict={tf_b:b})\n",
        "print('done %d layers in %.2fms' % (N_LAYERS_UNROLL, (time() - tf_t0)*1000))\n",
        "\n",
        "print(np.linalg.norm(tf_x-x_true))\n",
        "print(np.linalg.norm(x_est-x_true))\n",
        "\n",
        "plt.plot(np.arange(n), x_true, 'g.', markersize=8, mec='green', label='True')\n",
        "plt.plot(np.arange(n), x_est, 'ro', mfc = 'None', markersize=4, mec='red', mew=1, label='ISTA')\n",
        "plt.plot(np.arange(n), tf_x.T, 'b.', markersize=8, mec='blue', label='uISTA_tf')\n",
        "plt.legend(loc='upper right', shadow=False)\n",
        "plt.show()\n"
      ],
      "execution_count": 43,
      "outputs": [
        {
          "output_type": "stream",
          "text": [
            "done 20 layers in 1445.40ms\n",
            "3.884277471322532\n",
            "2.406654406595461\n"
          ],
          "name": "stdout"
        },
        {
          "output_type": "display_data",
          "data": {
            "image/png": "[encoded data removed]",
            "text/plain": [
              "<Figure size 432x288 with 1 Axes>"
            ]
          },
          "metadata": {
            "tags": []
          }
        }
      ]
    },
    {
      "cell_type": "markdown",
      "metadata": {
        "id": "nQgXShZyIU7W",
        "colab_type": "text"
      },
      "source": [
        "**Optimize the model**"
      ]
    },
    {
      "cell_type": "code",
      "metadata": {
        "id": "EVO35bK_fD6B",
        "colab_type": "code",
        "colab": {}
      },
      "source": [
        "# training data preparation\n",
        "\n",
        "BATCH_SIZE = 10\n",
        "BUFFER_SIZE = 10000\n",
        "NUM_EPOCHES = 100\n",
        "LEARNING_RATE = 0.00003 * sqrt(BATCH_SIZE)\n",
        "\n",
        "tf_labelx = tf.placeholder(tf.float32,shape=( None, n))\n",
        "#print(tf_A.shape)\n",
        "#print(tf_l.shape)\n",
        "\n",
        "# Add ops to save and restore all the variables.\n",
        "saver = tf.train.Saver()\n",
        "\n",
        "# define loss and optimizer\n",
        "var_list = tf.trainable_variables()\n",
        "\n",
        "with tf.device('/device:GPU:0'):\n",
        "  tf_loss = tf.losses.mean_squared_error(tf_labelx, u_x)\n",
        "  tf_opt = tf.train.AdamOptimizer(learning_rate=LEARNING_RATE).minimize(tf_loss, var_list = var_list)\n"
      ],
      "execution_count": 0,
      "outputs": []
    },
    {
      "cell_type": "code",
      "metadata": {
        "id": "Q4MzrgIsN-BQ",
        "colab_type": "code",
        "outputId": "cc634d60-917c-44cb-a66f-c70fd0095fb7",
        "colab": {
          "base_uri": "https://localhost:8080/",
          "height": 562
        }
      },
      "source": [
        "t0 = time()\n",
        "with tf.Session(config = config) as sess:      \n",
        "  sess.run(tf.global_variables_initializer())\n",
        "  running_loss = 0.               \n",
        "  for epoch in range(NUM_EPOCHES): \n",
        "    #tf_x = sess.run(u_x, feed_dict={tf_b:b})\n",
        "    loss = sess.run(tf_loss, feed_dict={tf_labelx: output_train[epoch].reshape(1,n), tf_b: input_train[epoch].reshape(1,m)})\n",
        "    #running_loss += loss\n",
        "    sess.run(tf_opt, feed_dict={tf_labelx: output_train[epoch].reshape(1,n), tf_b: input_train[epoch].reshape(1,m)})\n",
        "    var_l = sess.run(tf_l)\n",
        "    if (epoch+1) % BATCH_SIZE == 0:\n",
        "      print ('Epoch [{:3d}/{}]: loss = {:.4f},  '.format(epoch+1, NUM_EPOCHES, loss), end=' ')\n",
        "      print('l in [{:.4f}, {:.4f}]'.format(var_l.min(), var_l.max()))\n",
        "      print('\\n')\n",
        "  #save the variables\n",
        "  save_path = saver.save(sess, \"/tmp/model.ckpt\")\n",
        "print('done in %.2fs' % (time() - t0))"
      ],
      "execution_count": 46,
      "outputs": [
        {
          "output_type": "stream",
          "text": [
            "Epoch [ 10/100]: loss = 0.0184,   l in [0.2244, 0.2257]\n",
            "\n",
            "\n",
            "Epoch [ 20/100]: loss = 0.0184,   l in [0.2239, 0.2264]\n",
            "\n",
            "\n",
            "Epoch [ 30/100]: loss = 0.0239,   l in [0.2237, 0.2269]\n",
            "\n",
            "\n",
            "Epoch [ 40/100]: loss = 0.0201,   l in [0.2233, 0.2273]\n",
            "\n",
            "\n",
            "Epoch [ 50/100]: loss = 0.0158,   l in [0.2229, 0.2280]\n",
            "\n",
            "\n",
            "Epoch [ 60/100]: loss = 0.0136,   l in [0.2225, 0.2286]\n",
            "\n",
            "\n",
            "Epoch [ 70/100]: loss = 0.0196,   l in [0.2223, 0.2289]\n",
            "\n",
            "\n",
            "Epoch [ 80/100]: loss = 0.0165,   l in [0.2222, 0.2292]\n",
            "\n",
            "\n",
            "Epoch [ 90/100]: loss = 0.0183,   l in [0.2220, 0.2297]\n",
            "\n",
            "\n",
            "Epoch [100/100]: loss = 0.0205,   l in [0.2216, 0.2302]\n",
            "\n",
            "\n",
            "done in 6.35s\n"
          ],
          "name": "stdout"
        }
      ]
    },
    {
      "cell_type": "code",
      "metadata": {
        "id": "G51Ad8PZgpCl",
        "colab_type": "code",
        "outputId": "0673e5ba-d0ae-491c-a79a-af9817d6c680",
        "colab": {
          "base_uri": "https://localhost:8080/",
          "height": 335
        }
      },
      "source": [
        "opt_x = uISTA_model()\n",
        "b = b.reshape(1,m)\n",
        "tf_t0 = time()\n",
        "with tf.Session(config = config) as sess:\n",
        "  saver.restore(sess, \"/tmp/model.ckpt\")\n",
        "  #sess.run(tf.global_variables_initializer())\n",
        "  op_tf_x = sess.run(opt_x, feed_dict={tf_b:b})\n",
        "print('done %d layers in %.2fms' % (N_LAYERS_UNROLL, (time() - tf_t0)*1000))\n",
        "\n",
        "print(np.linalg.norm(op_tf_x-x_true))\n",
        "print(np.linalg.norm(x_est-x_true))\n",
        "plt.plot(np.arange(n), x_true, 'g.', markersize=8, mec='green', label='True')\n",
        "plt.plot(np.arange(n), x_est, 'ro', mfc = 'None', markersize=4, mec='red', mew=1, label='ISTA')\n",
        "plt.plot(np.arange(n), tf_x.T, 'b.', markersize=8, mec='blue', label='uISTA_tf')\n",
        "plt.legend(loc='upper right', shadow=False)\n",
        "plt.show()"
      ],
      "execution_count": 47,
      "outputs": [
        {
          "output_type": "stream",
          "text": [
            "INFO:tensorflow:Restoring parameters from /tmp/model.ckpt\n",
            "done 20 layers in 1658.91ms\n",
            "3.8356938868884574\n",
            "2.406654406595461\n"
          ],
          "name": "stdout"
        },
        {
          "output_type": "display_data",
          "data": {
            "image/png": "[encoded data removed]",
            "text/plain": [
              "<Figure size 432x288 with 1 Axes>"
            ]
          },
          "metadata": {
            "tags": []
          }
        }
      ]
    },
    {
      "cell_type": "code",
      "metadata": {
        "id": "Neff6D2Z1qEk",
        "colab_type": "code",
        "colab": {}
      },
      "source": [
        "#plt.plot(np.arange(n), model.l.detach().cpu().numpy().ravel(), 'k.', markersize=8, mec='k', label='lambda')\n",
        "#plt.legend(loc='upper right', shadow=False)"
      ],
      "execution_count": 0,
      "outputs": []
    },
    {
      "cell_type": "markdown",
      "metadata": {
        "id": "GwTg_SqaoX_4",
        "colab_type": "text"
      },
      "source": [
        "**SALSA untrolled**  "
      ]
    },
    {
      "cell_type": "code",
      "metadata": {
        "id": "PDF60ToGBr-r",
        "colab_type": "code",
        "colab": {}
      },
      "source": [
        "import torch\n",
        "from torch.utils.data import DataLoader,TensorDataset\n",
        "print(torch.__version__)\n",
        "device = torch.device('cpu')"
      ],
      "execution_count": 0,
      "outputs": []
    },
    {
      "cell_type": "code",
      "metadata": {
        "id": "Jnp3vlAHB6v6",
        "colab_type": "code",
        "colab": {}
      },
      "source": [
        "if torch.cuda.is_available():\n",
        "    device = torch.device('cuda')\n",
        "    print(torch.cuda.get_device_name(torch.cuda.current_device()))\n",
        "    print(torch.cuda.memory_allocated())\n",
        "    print(torch.cuda.memory_cached())\n",
        "    torch.cuda.empty_cache()"
      ],
      "execution_count": 0,
      "outputs": []
    },
    {
      "cell_type": "code",
      "metadata": {
        "id": "BbUd8bx5oWrY",
        "colab_type": "code",
        "colab": {}
      },
      "source": [
        "class uSALSA(torch.nn.Module):\n",
        "  def __init__(self, num_unroll, A, l=1., scale=1., prox=None):\n",
        "    super(uSALSA, self).__init__()\n",
        "    self.num_unroll = num_unroll\n",
        "    self.A = torch.nn.Parameter(torch.FloatTensor(A), requires_grad=True)\n",
        "    self.l = torch.nn.Parameter(torch.FloatTensor([l]), requires_grad=True)\n",
        "    self.scale = scale\n",
        "    if prox is None:\n",
        "      self.prox = lambda z, th: z.sign() * (z.abs_() - th).max(torch.tensor(0, device=device).float())\n",
        "    else:\n",
        "      self.prox = prox\n",
        "            \n",
        "  def forward(self, b):\n",
        "    theta = torch.mul(self.l, self.scale)\n",
        "    print(theta.shape)\n",
        "    #print('ok')\n",
        "    x = torch.matmul(self.A.t(), b.t())\n",
        "    print(x.shape)\n",
        "    #print('ok')\n",
        "    z = self.prox(x, theta.t())\n",
        "    print(z.shape)\n",
        "    u = x - z\n",
        "    print(u.shape)\n",
        "    print((torch.inverse(torch.matmul(self.A.t(), self.A) + 1./self.scale)).shape)\n",
        "    print((torch.matmul(self.A.t(), b.t()) + torch.mul(1./self.scale, z)).shape)\n",
        "    for i in range(self.num_unroll):\n",
        "      # x = prox(x+A.T.dot(b-A.dot(x))*scale, theta)\n",
        "      x = torch.matmul(torch.inverse(torch.matmul(self.A.t(), self.A) + 1./self.scale), (torch.matmul(self.A.t(), b.t()) + torch.mul(1./self.scale, z)))\n",
        "      print(x.shape)\n",
        "      z = self.prox(x + u, theta) - u\n",
        "      u = x - z\n",
        "      #x = self.prox(x + (b - x.matmul(self.A.t())).mul_(self.scale).matmul(self.A), theta)\n",
        "    return x"
      ],
      "execution_count": 0,
      "outputs": []
    },
    {
      "cell_type": "code",
      "metadata": {
        "id": "wLxvgJVXCGnD",
        "colab_type": "code",
        "colab": {}
      },
      "source": [
        "n_layers_unroll  = 20\n",
        "\n",
        "#l_ini = l\n",
        "l_ini = np.ones(n) * l\n",
        "\n",
        "model = uSALSA(n_layers_unroll, A, l=l_ini, scale=1./L).to(device=device)\n",
        "\n",
        "print('Is model parameters on GPU? :', next(model.parameters()).is_cuda)\n",
        "for param in model.parameters():\n",
        "    print(type(param.data), param.size(), ', is_cuda:', param.is_cuda)"
      ],
      "execution_count": 0,
      "outputs": []
    },
    {
      "cell_type": "code",
      "metadata": {
        "id": "zU75CyNVCx26",
        "colab_type": "code",
        "colab": {}
      },
      "source": [
        "b_torch = torch.from_numpy(b).float().to(device)\n",
        "t0 = time()\n",
        "with torch.no_grad():\n",
        "    model_out = model(b_torch)\n",
        "print('done fwd. prop. of %d layers in %.2fms' % (model.num_unroll, (time() - t0)*1000))\n",
        "\n",
        "'''\n",
        "x_usalsa = model_out.detach().cpu().numpy().ravel()\n",
        "print(np.linalg.norm(x_usalsa-x_true))\n",
        "print(np.linalg.norm(x_est-x_true))\n",
        "plt.plot(np.arange(n), x_true, 'g.', markersize=8, mec='green', label='True')\n",
        "plt.plot(np.arange(n), x_est, 'ro', mfc = 'None', markersize=4, mec='red', mew=1, label='ISTA')\n",
        "plt.plot(np.arange(n), x_usalsa, 'b.', markersize=8, mec='green', label='uSALSA')\n",
        "plt.legend(loc='upper right', shadow=False)\n",
        "plt.show()\n",
        "'''"
      ],
      "execution_count": 0,
      "outputs": []
    }
  ]
}